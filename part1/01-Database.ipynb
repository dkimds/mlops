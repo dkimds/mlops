{
 "cells": [
  {
   "cell_type": "code",
   "execution_count": 1,
   "metadata": {},
   "outputs": [],
   "source": [
    "import psycopg2\n",
    "\n",
    "db_connect = psycopg2.connect(\n",
    "    user=\"myuser\",\n",
    "    password=\"mypassword\",\n",
    "    host=\"localhost\",\n",
    "    port=5432,\n",
    "    database=\"mydatabase\",\n",
    ")"
   ]
  },
  {
   "cell_type": "code",
   "execution_count": 2,
   "metadata": {},
   "outputs": [],
   "source": [
    "import pandas as pd\n",
    "from sklearn.datasets import load_iris\n",
    "\n",
    "X, y = load_iris(return_X_y=True, as_frame=True)\n",
    "df = pd.concat([X, y], axis=\"columns\")"
   ]
  },
  {
   "cell_type": "code",
   "execution_count": 4,
   "metadata": {},
   "outputs": [
    {
     "name": "stdout",
     "output_type": "stream",
     "text": [
      "     sepal length (cm)  sepal width (cm)  ...  petal width (cm)  target\n",
      "0                  5.1               3.5  ...               0.2       0\n",
      "1                  4.9               3.0  ...               0.2       0\n",
      "2                  4.7               3.2  ...               0.2       0\n",
      "3                  4.6               3.1  ...               0.2       0\n",
      "4                  5.0               3.6  ...               0.2       0\n",
      "..                 ...               ...  ...               ...     ...\n",
      "145                6.7               3.0  ...               2.3       2\n",
      "146                6.3               2.5  ...               1.9       2\n",
      "147                6.5               3.0  ...               2.0       2\n",
      "148                6.2               3.4  ...               2.3       2\n",
      "149                5.9               3.0  ...               1.8       2\n",
      "\n",
      "[150 rows x 5 columns]\n",
      "sepal length (cm)    float64\n",
      "sepal width (cm)     float64\n",
      "petal length (cm)    float64\n",
      "petal width (cm)     float64\n",
      "target                 int64\n",
      "dtype: object\n"
     ]
    }
   ],
   "source": [
    "print(df)\n",
    "print(df.dtypes)"
   ]
  },
  {
   "cell_type": "code",
   "execution_count": 6,
   "metadata": {},
   "outputs": [],
   "source": [
    "create_table_query = \"\"\"\n",
    "CREATE TABLE IF NOT EXISTS iris_data (\n",
    "    id SERIAL PRIMARY KEY,\n",
    "    timestamp timestamp,\n",
    "    sepal_length float8,\n",
    "    sepal_width float8,\n",
    "    petal_length float8,\n",
    "    petal_width float8,\n",
    "    target int\n",
    ");\n",
    "\"\"\""
   ]
  },
  {
   "cell_type": "code",
   "execution_count": 7,
   "metadata": {},
   "outputs": [],
   "source": [
    "cur = db_connect.cursor()\n",
    "cur.execute(create_table_query)"
   ]
  },
  {
   "cell_type": "code",
   "execution_count": 8,
   "metadata": {},
   "outputs": [],
   "source": [
    "db_connect.commit()"
   ]
  },
  {
   "cell_type": "code",
   "execution_count": 9,
   "metadata": {},
   "outputs": [],
   "source": [
    "cur.close()"
   ]
  },
  {
   "cell_type": "markdown",
   "metadata": {},
   "source": [
    "```python\n",
    "with db_connect.cursor() as cur:\n",
    "    cur.execute(create_table_query)\n",
    "    db_connect.commit()\n",
    "```"
   ]
  },
  {
   "cell_type": "code",
   "execution_count": 10,
   "metadata": {},
   "outputs": [],
   "source": [
    "def create_table(db_connect):\n",
    "    create_table_query = \"\"\"\n",
    "    CREATE TABLE IF NOT EXISTS iris_data (\n",
    "        id SERIAL PRIMARY KEY,\n",
    "        timestamp timestamp,\n",
    "        sepal_length float8,\n",
    "        sepal_width float8,\n",
    "        petal_length float8,\n",
    "        petal_width float8,\n",
    "        target int\n",
    "    );\"\"\"\n",
    "    print(create_table_query)\n",
    "    with db_connect.cursor() as cur:\n",
    "        cur.execute(create_table_query)\n",
    "        db_connect.commit() "
   ]
  },
  {
   "cell_type": "code",
   "execution_count": 14,
   "metadata": {},
   "outputs": [
    {
     "name": "stdout",
     "output_type": "stream",
     "text": [
      "Writing table_creator.py\n"
     ]
    }
   ],
   "source": [
    "%%writefile table_creator.py\n",
    "import psycopg2\n",
    "\n",
    "def create_table(db_connect):\n",
    "    create_table_query = \"\"\"\n",
    "    CREATE TABLE IF NOT EXISTS iris_data (\n",
    "        id SERIAL PRIMARY KEY,\n",
    "        timestamp timestamp,\n",
    "        sepal_length float8,\n",
    "        sepal_width float8,\n",
    "        petal_length float8,\n",
    "        petal_width float8,\n",
    "        target int\n",
    "    );\"\"\"\n",
    "    print(create_table_query)\n",
    "    with db_connect.cursor() as cur:\n",
    "        cur.execute(create_table_query)\n",
    "        db_connect.commit() \n",
    "\n",
    "if __name__ == \"__mani__\":\n",
    "    db_connect = psycopg2.connect(\n",
    "        user=\"myuser\",\n",
    "        password=\"mypassword\",\n",
    "        host=\"localhost\",\n",
    "        port=5432,\n",
    "        database=\"mydatabase\",\n",
    "    )\n",
    "    create_table(db_connect)"
   ]
  },
  {
   "cell_type": "code",
   "execution_count": 15,
   "metadata": {},
   "outputs": [],
   "source": [
    "import pandas as pd \n",
    "from sklearn.datasets import load_iris\n",
    "\n",
    "X, y = load_iris(return_X_y=True, as_frame=True)\n",
    "df = pd.concat([X, y], axis=\"columns\")\n",
    "rename_rule = {\n",
    "    \"sepal length (cm)\": \"sepal_length\",\n",
    "    \"sepal width (cm)\": \"sepal_width\",\n",
    "    \"petal length (cm)\": \"petal_length\",\n",
    "    \"petal width (cm)\": \"petal_width\",\n",
    "}\n",
    "df = df.rename(columns=rename_rule)"
   ]
  },
  {
   "cell_type": "code",
   "execution_count": 16,
   "metadata": {},
   "outputs": [
    {
     "name": "stdout",
     "output_type": "stream",
     "text": [
      "     sepal_length  sepal_width  petal_length  petal_width  target\n",
      "0             5.1          3.5           1.4          0.2       0\n",
      "1             4.9          3.0           1.4          0.2       0\n",
      "2             4.7          3.2           1.3          0.2       0\n",
      "3             4.6          3.1           1.5          0.2       0\n",
      "4             5.0          3.6           1.4          0.2       0\n",
      "..            ...          ...           ...          ...     ...\n",
      "145           6.7          3.0           5.2          2.3       2\n",
      "146           6.3          2.5           5.0          1.9       2\n",
      "147           6.5          3.0           5.2          2.0       2\n",
      "148           6.2          3.4           5.4          2.3       2\n",
      "149           5.9          3.0           5.1          1.8       2\n",
      "\n",
      "[150 rows x 5 columns]\n"
     ]
    }
   ],
   "source": [
    "print(df)"
   ]
  },
  {
   "cell_type": "code",
   "execution_count": 17,
   "metadata": {},
   "outputs": [],
   "source": [
    "def get_data():\n",
    "    X, y = load_iris(return_X_y=True, as_frame=True)\n",
    "    df = pd.concat([X, y], axis=\"columns\")\n",
    "    rename_rule = {\n",
    "        \"sepal length (cm)\": \"sepal_length\",\n",
    "        \"sepal width (cm)\": \"sepal_width\",\n",
    "        \"petal length (cm)\": \"petal_length\",\n",
    "        \"petal width (cm)\": \"petal_width\",\n",
    "    }\n",
    "    df = df.rename(columns=rename_rule)\n",
    "    return df"
   ]
  },
  {
   "cell_type": "code",
   "execution_count": 18,
   "metadata": {},
   "outputs": [],
   "source": [
    "data = df.sample(1).squeeze()"
   ]
  },
  {
   "cell_type": "code",
   "execution_count": 19,
   "metadata": {},
   "outputs": [
    {
     "name": "stdout",
     "output_type": "stream",
     "text": [
      "sepal_length    6.3\n",
      "sepal_width     2.7\n",
      "petal_length    4.9\n",
      "petal_width     1.8\n",
      "target          2.0\n",
      "Name: 123, dtype: float64\n"
     ]
    }
   ],
   "source": [
    "print(data)"
   ]
  },
  {
   "cell_type": "code",
   "execution_count": 20,
   "metadata": {},
   "outputs": [],
   "source": [
    "insert_row_query = f\"\"\"\n",
    "INSERT INTO iris_data\n",
    "    (timestamp, sepal_length, sepal_width, petal_length, petal_width, target)\n",
    "    VALUES (\n",
    "        NOW(),\n",
    "        {data.sepal_length},\n",
    "        {data.sepal_length},\n",
    "        {data.petal_length},\n",
    "        {data.petal_width},\n",
    "        {data.target}\n",
    "        );\"\"\""
   ]
  },
  {
   "cell_type": "code",
   "execution_count": 21,
   "metadata": {},
   "outputs": [],
   "source": [
    "with db_connect.cursor() as cur:\n",
    "    cur.execute(create_table_query)\n",
    "    db_connect.commit()"
   ]
  },
  {
   "cell_type": "code",
   "execution_count": 22,
   "metadata": {},
   "outputs": [],
   "source": [
    "def insert_data(db_connect, data):\n",
    "    insert_row_query = f\"\"\"\n",
    "    INSERT INTO iris_data\n",
    "        (timestamp, sepal_length, sepal_width, petal_length, petal_width, target)\n",
    "        VALUES (\n",
    "            NOW(),\n",
    "            {data.sepal_length},\n",
    "            {data.sepal_length},\n",
    "            {data.petal_length},\n",
    "            {data.petal_width},\n",
    "            {data.target}\n",
    "            );\"\"\"\n",
    "    print(insert_row_query)\n",
    "    with db_connect.cursor() as cur:\n",
    "        cur.execute(create_table_query)\n",
    "        db_connect.commit()"
   ]
  },
  {
   "cell_type": "code",
   "execution_count": 25,
   "metadata": {},
   "outputs": [
    {
     "name": "stdout",
     "output_type": "stream",
     "text": [
      "Overwriting data_insertion.py\n"
     ]
    }
   ],
   "source": [
    "%%writefile data_insertion.py\n",
    "import pandas as pd\n",
    "import psycopg2\n",
    "from sklearn.datasets import load_iris\n",
    "\n",
    "\n",
    "def get_data():\n",
    "    X, y = load_iris(return_X_y=True, as_frame=True)\n",
    "    df = pd.concat([X, y], axis=\"columns\")\n",
    "    rename_rule = {\n",
    "        \"sepal length (cm)\": \"sepal_length\",\n",
    "        \"sepal width (cm)\": \"sepal_width\",\n",
    "        \"petal length (cm)\": \"petal_length\",\n",
    "        \"petal width (cm)\": \"petal_width\",\n",
    "    }\n",
    "    df = df.rename(columns=rename_rule)\n",
    "    return df\n",
    "\n",
    "\n",
    "def insert_data(db_connect, data):\n",
    "    insert_row_query = f\"\"\"\n",
    "    INSERT INTO iris_data\n",
    "        (timestamp, sepal_length, sepal_width, petal_length, petal_width, target)\n",
    "        VALUES (\n",
    "            NOW(),\n",
    "            {data.sepal_length},\n",
    "            {data.sepal_width},\n",
    "            {data.petal_length},\n",
    "            {data.petal_width},\n",
    "            {data.target}\n",
    "        );\"\"\"\n",
    "    print(insert_row_query)\n",
    "    with db_connect.cursor() as cur:\n",
    "        cur.execute(insert_row_query)\n",
    "        db_connect.commit()\n",
    "\n",
    "\n",
    "if __name__ == \"__main__\":\n",
    "    db_connect = psycopg2.connect(\n",
    "        user=\"myuser\",\n",
    "        password=\"mypassword\",\n",
    "        host=\"localhost\",\n",
    "        port=5432,\n",
    "        database=\"mydatabase\",\n",
    "    )\n",
    "    df = get_data()\n",
    "    insert_data(db_connect, df.sample(1).squeeze())"
   ]
  },
  {
   "cell_type": "code",
   "execution_count": 26,
   "metadata": {},
   "outputs": [],
   "source": [
    "import time\n",
    "def generate_date(db_connect, df):\n",
    "    while True:\n",
    "        insert_data(db_connect, df.sample(1).squeeze())\n",
    "        time.sleep(1)"
   ]
  },
  {
   "cell_type": "code",
   "execution_count": 28,
   "metadata": {},
   "outputs": [
    {
     "name": "stdout",
     "output_type": "stream",
     "text": [
      "Overwriting data_insertion_loop.py\n"
     ]
    }
   ],
   "source": [
    "%%writefile data_insertion_loop.py\n",
    "import time\n",
    "\n",
    "import pandas as pd\n",
    "import psycopg2\n",
    "from sklearn.datasets import load_iris\n",
    "\n",
    "\n",
    "def get_data():\n",
    "    X, y = load_iris(return_X_y=True, as_frame=True)\n",
    "    df = pd.concat([X, y], axis=\"columns\")\n",
    "    rename_rule = {\n",
    "        \"sepal length (cm)\": \"sepal_length\",\n",
    "        \"sepal width (cm)\": \"sepal_width\",\n",
    "        \"petal length (cm)\": \"petal_length\",\n",
    "        \"petal width (cm)\": \"petal_width\",\n",
    "    }\n",
    "    df = df.rename(columns=rename_rule)\n",
    "    return df\n",
    "\n",
    "\n",
    "def insert_data(db_connect, data):\n",
    "    insert_row_query = f\"\"\"\n",
    "    INSERT INTO iris_data\n",
    "        (timestamp, sepal_length, sepal_width, petal_length, petal_width, target)\n",
    "        VALUES (\n",
    "            NOW(),\n",
    "            {data.sepal_length},\n",
    "            {data.sepal_width},\n",
    "            {data.petal_length},\n",
    "            {data.petal_width},\n",
    "            {data.target}\n",
    "        );\n",
    "    \"\"\"\n",
    "    print(insert_row_query)\n",
    "    with db_connect.cursor() as cur:\n",
    "        cur.execute(insert_row_query)\n",
    "        db_connect.commit()\n",
    "\n",
    "\n",
    "def generate_data(db_connect, df):\n",
    "    while True:\n",
    "        insert_data(db_connect, df.sample(1).squeeze())\n",
    "        time.sleep(1)\n",
    "\n",
    "\n",
    "if __name__ == \"__main__\":\n",
    "    db_connect = psycopg2.connect(\n",
    "        user=\"myuser\",\n",
    "        password=\"mypassword\",\n",
    "        host=\"localhost\",\n",
    "        port=5432,\n",
    "        database=\"mydatabase\",\n",
    "    )\n",
    "    df = get_data()\n",
    "    generate_data(db_connect, df)"
   ]
  },
  {
   "cell_type": "code",
   "execution_count": 32,
   "metadata": {},
   "outputs": [
    {
     "name": "stdout",
     "output_type": "stream",
     "text": [
      "Overwriting data_generator.py\n"
     ]
    }
   ],
   "source": [
    "%%writefile data_generator.py\n",
    "import time\n",
    "from argparse import ArgumentParser\n",
    "\n",
    "import pandas as pd\n",
    "import psycopg2\n",
    "from sklearn.datasets import load_iris\n",
    "\n",
    "\n",
    "def get_data():\n",
    "    X, y = load_iris(return_X_y=True, as_frame=True)\n",
    "    df = pd.concat([X, y], axis=\"columns\")\n",
    "    rename_rule = {\n",
    "        \"sepal length (cm)\": \"sepal_length\",\n",
    "        \"sepal width (cm)\": \"sepal_width\",\n",
    "        \"petal length (cm)\": \"petal_length\",\n",
    "        \"petal width (cm)\": \"petal_width\",\n",
    "    }\n",
    "    df = df.rename(columns=rename_rule)\n",
    "    return df\n",
    "\n",
    "\n",
    "def create_table(db_connect):\n",
    "    create_table_query = \"\"\"\n",
    "    CREATE TABLE IF NOT EXISTS iris_data (\n",
    "        id SERIAL PRIMARY KEY,\n",
    "        timestamp timestamp,\n",
    "        sepal_length float8,\n",
    "        sepal_width float8,\n",
    "        petal_length float8,\n",
    "        petal_width float8,\n",
    "        target int\n",
    "    );\"\"\"\n",
    "    print(create_table_query)\n",
    "    with db_connect.cursor() as cur:\n",
    "        cur.execute(create_table_query)\n",
    "        db_connect.commit()\n",
    "\n",
    "\n",
    "def insert_data(db_connect, data):\n",
    "    insert_row_query = f\"\"\"\n",
    "    INSERT INTO iris_data\n",
    "        (timestamp, sepal_length, sepal_width, petal_length, petal_width, target)\n",
    "        VALUES (\n",
    "            NOW(),\n",
    "            {data.sepal_length},\n",
    "            {data.sepal_width},\n",
    "            {data.petal_length},\n",
    "            {data.petal_width},\n",
    "            {data.target}\n",
    "        );\n",
    "    \"\"\"\n",
    "    print(insert_row_query)\n",
    "    with db_connect.cursor() as cur:\n",
    "        cur.execute(insert_row_query)\n",
    "        db_connect.commit()\n",
    "\n",
    "\n",
    "def generate_data(db_connect, df):\n",
    "    while True:\n",
    "        insert_data(db_connect, df.sample(1).squeeze())\n",
    "        time.sleep(1)\n",
    "\n",
    "\n",
    "if __name__ == \"__main__\":\n",
    "    parser = ArgumentParser()\n",
    "    parser.add_argument(\"--db-host\", dest=\"db_host\", type=str, default=\"localhost\")\n",
    "    args = parser.parse_args()\n",
    "\n",
    "    db_connect = psycopg2.connect(\n",
    "        user=\"myuser\",\n",
    "        password=\"mypassword\",\n",
    "        host=args.db_host,\n",
    "        port=5432,\n",
    "        database=\"mydatabase\",\n",
    "    )\n",
    "    create_table(db_connect)\n",
    "    df = get_data()\n",
    "    generate_data(db_connect, df)"
   ]
  },
  {
   "cell_type": "code",
   "execution_count": null,
   "metadata": {},
   "outputs": [],
   "source": []
  }
 ],
 "metadata": {
  "kernelspec": {
   "display_name": "mlops",
   "language": "python",
   "name": "python3"
  },
  "language_info": {
   "codemirror_mode": {
    "name": "ipython",
    "version": 3
   },
   "file_extension": ".py",
   "mimetype": "text/x-python",
   "name": "python",
   "nbconvert_exporter": "python",
   "pygments_lexer": "ipython3",
   "version": "3.11.11"
  }
 },
 "nbformat": 4,
 "nbformat_minor": 2
}
